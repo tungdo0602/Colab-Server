{
  "nbformat": 4,
  "nbformat_minor": 0,
  "metadata": {
    "colab": {
      "provenance": [],
      "collapsed_sections": [
        "1ybuVw-cfal1",
        "GgVzzhLm_iZH",
        "8U3Ngh1sd4EW",
        "5Chi7SmnZwAv",
        "29N43vyCZ8dL",
        "3mkqXIPR_dh8",
        "ywkpaKyuijEs"
      ]
    },
    "kernelspec": {
      "name": "python3",
      "display_name": "Python 3"
    },
    "language_info": {
      "name": "python"
    },
    "gpuClass": "standard"
  },
  "cells": [
    {
      "cell_type": "markdown",
      "source": [
        "# Prepare (required)"
      ],
      "metadata": {
        "id": "1ybuVw-cfal1"
      }
    },
    {
      "cell_type": "code",
      "source": [
        "#@markdown ## Save Mode\n",
        "\n",
        "saveMode = \"temporary\" #@param [\"temporary\", \"googleDrive\"] {\"type\": \"string\"}\n",
        "savePath = \"\"\n",
        "if saveMode.lower() == \"temporary\":\n",
        "  savePath = \"/content/\"\n",
        "else:\n",
        "  savePath = \"/content/drive/MyDrive/\""
      ],
      "metadata": {
        "cellView": "form",
        "id": "i8nYpdcU5j8j"
      },
      "execution_count": null,
      "outputs": []
    },
    {
      "cell_type": "code",
      "source": [
        "#@markdown ## Mount to drive\n",
        "#@markdown ### If you use googleDrive mode run this cell\n",
        "from google.colab import drive\n",
        "drive.mount('/content/drive', force_remount=True)"
      ],
      "metadata": {
        "cellView": "form",
        "id": "m9kFWNwPQfiF"
      },
      "execution_count": null,
      "outputs": []
    },
    {
      "cell_type": "code",
      "source": [
        "#@markdown ## Create Folder\n",
        "#@markdown #### Warning: Don't do this step if you already setup a minecraft server in your drive\n",
        "import os, os.path\n",
        "if os.path.exists(savePath + \"minecraftServer\"):\n",
        "  print(\"Folder exists!\")\n",
        "else:\n",
        "  print(\"Creating Folder...\")\n",
        "  os.system(f\"mkdir \" + savePath + \"minecraftServer\")\n",
        "  print(\"Done!\")\n",
        "\n",
        "if os.path.exists(savePath + \"minecraftServer/java\"):\n",
        "  print(\"Folder exists!\")\n",
        "else:\n",
        "  print(\"Creating Folder...\")\n",
        "  os.system(\"mkdir \" + savePath + \"minecraftServer/java\")\n",
        "  print(\"Done!\")\n",
        "\n",
        "if os.path.exists(savePath + \"minecraftServer/bedrock\"):\n",
        "  print(\"Folder exists!\")\n",
        "else:\n",
        "  print(\"Creating Folder...\")\n",
        "  os.system(\"mkdir \" + savePath + \"minecraftServer/bedrock\")\n",
        "  print(\"Done!\")"
      ],
      "metadata": {
        "cellView": "form",
        "id": "K9Oy06MoSai2"
      },
      "execution_count": null,
      "outputs": []
    },
    {
      "cell_type": "code",
      "source": [
        "#@markdown ## Install requirements\n",
        "!pip install -U pyngrok\n",
        "!pip install -U minecraftVersions"
      ],
      "metadata": {
        "id": "WHpjI5H7FuwR",
        "cellView": "form"
      },
      "execution_count": null,
      "outputs": []
    },
    {
      "cell_type": "code",
      "source": [
        "#@markdown ## Ngrok auth token (For tunneling the server) [Required]\n",
        "import getpass\n",
        "print(\"Get auth token from https://dashboard.ngrok.com/get-started/your-authtoken\")\n",
        "ngtoken = getpass.getpass()\n",
        "!echo $ngtoken >> $savePath\"minecraftServer/ngtoken.txt\""
      ],
      "metadata": {
        "cellView": "form",
        "id": "ubuAeLWLP-tq"
      },
      "execution_count": null,
      "outputs": []
    },
    {
      "cell_type": "code",
      "source": [
        "#@markdown ## Discord Webhook (For announcing server IP) [optional]\n",
        "import getpass\n",
        "discordWebhook = getpass.getpass()\n",
        "!echo $discordWebhook >> $savePath\"/minecraftServer/discordWebhook.txt\""
      ],
      "metadata": {
        "cellView": "form",
        "id": "h5RBQ5QHOon4"
      },
      "execution_count": null,
      "outputs": []
    },
    {
      "cell_type": "markdown",
      "source": [
        "# For Minecraft Java Edition"
      ],
      "metadata": {
        "id": "GgVzzhLm_iZH"
      }
    },
    {
      "cell_type": "markdown",
      "source": [
        "## 1. Update Java"
      ],
      "metadata": {
        "id": "8U3Ngh1sd4EW"
      }
    },
    {
      "cell_type": "code",
      "source": [
        "#@markdown ## Java 16\n",
        "%cd /content/\n",
        "!wget https://files03.tchspt.com/temp/jdk-16.0.2_linux-x64_bin.deb\n",
        "!sudo apt install /content/jdk-16.0.2_linux-x64_bin.deb\n",
        "!rm -rf /content/jdk-16.0.2_linux-x64_bin.deb\n",
        "import os\n",
        "os.environ[\"JAVA_HOME\"] = \"/usr/lib/jvm/jdk-16.0.2\"\n",
        "!update-alternatives --install /usr/bin/java java /usr/lib/jvm/jdk-16.0.2/bin/java 1919\n",
        "!java -version"
      ],
      "metadata": {
        "cellView": "form",
        "id": "bCE8hRcPcAjy"
      },
      "execution_count": null,
      "outputs": []
    },
    {
      "cell_type": "code",
      "source": [
        "#@markdown ## Java 17 (Paper 1.18 and above)\n",
        "%cd /content/\n",
        "!wget https://download.oracle.com/java/17/archive/jdk-17.0.6_linux-x64_bin.deb\n",
        "!sudo apt install /content/jdk-17.0.6_linux-x64_bin.deb\n",
        "!rm -rf /content/jdk-17.0.6_linux-x64_bin.deb\n",
        "import os\n",
        "os.environ[\"JAVA_HOME\"] = \"/usr/lib/jvm/jdk-17\"\n",
        "!update-alternatives --install /usr/bin/java java /usr/lib/jvm/jdk-17/bin/java 1919\n",
        "!java -version"
      ],
      "metadata": {
        "id": "2s3IMgpTlImC",
        "cellView": "form"
      },
      "execution_count": null,
      "outputs": []
    },
    {
      "cell_type": "code",
      "execution_count": null,
      "metadata": {
        "id": "OLpGFhTADcm3",
        "cellView": "form"
      },
      "outputs": [],
      "source": [
        "#@markdown ## Java 19 (Latest version)\n",
        "%cd /content/\n",
        "!wget https://download.oracle.com/java/19/latest/jdk-19_linux-x64_bin.deb\n",
        "!sudo apt install /content/jdk-19_linux-x64_bin.deb\n",
        "!rm -rf /content/jdk-19_linux-x64_bin.deb\n",
        "import os\n",
        "os.environ[\"JAVA_HOME\"] = \"/usr/lib/jvm/jdk-19\"\n",
        "!update-alternatives --install /usr/bin/java java /usr/lib/jvm/jdk-19/bin/java 1919\n",
        "!java -version"
      ]
    },
    {
      "cell_type": "code",
      "source": [
        "#@markdown ## 2. Set config\n",
        "#@markdown ### Run the cell to change the config\n",
        "import ipywidgets as widgets\n",
        "from IPython.display import display\n",
        "import minecraftVersions as MCVersion\n",
        "import requests\n",
        "\n",
        "mc = MCVersion.MCVersion()\n",
        "paperlist = requests.get(\"https://gist.githubusercontent.com/osipxd/6119732e30059241c2192c4a8d2218d9/raw/c2beaf5ee892c55f21ec66d5e1e1969ea59082e4/paper-versions.json\")\n",
        "\n",
        "javaServerDownloadUrl = mc.latest().release().server().url\n",
        "paperVersion = paperlist.json()[\"latest\"]\n",
        "vanillaVersionGui = widgets.Dropdown(\n",
        "    options=mc.getAllVersions().toList(),\n",
        "    value=mc.latest().release().version,\n",
        "    description='MC Version:',\n",
        ")\n",
        "paperVersionGui = widgets.Dropdown(\n",
        "    options=[i for i in paperlist.json()[\"versions\"].keys()],\n",
        "    value=paperlist.json()[\"latest\"],\n",
        "    description='PaperMC Version:',\n",
        ")\n",
        "saveButton = widgets.Button(description=\"Save\")\n",
        "def save_config(*arg):\n",
        "  global vanillaVersionGui\n",
        "  global javaServerDownloadUrl\n",
        "  global paperVersion\n",
        "  javaServerDownloadUrl = mc.getVersion(vanillaVersionGui.value).server().url\n",
        "  paperVersion = paperVersionGui.value\n",
        "  print(\"Saved\")\n",
        "\n",
        "saveButton.on_click(save_config)\n",
        "\n",
        "display(vanillaVersionGui)\n",
        "display(paperVersionGui)\n",
        "display(saveButton)\n"
      ],
      "metadata": {
        "id": "Ui2XV_wohTru",
        "cellView": "form"
      },
      "execution_count": null,
      "outputs": []
    },
    {
      "cell_type": "markdown",
      "source": [
        "## 3. Download server software (click the arrow to expand)\n",
        "#### Warning: Don't do this step if you already setup a minecraft server in your drive"
      ],
      "metadata": {
        "id": "5Chi7SmnZwAv"
      }
    },
    {
      "cell_type": "code",
      "source": [
        "#@markdown ## Vanilla\n",
        "\n",
        "import os, os.path\n",
        "if os.path.exists(savePath + \"minecraftServer/java/vanilla\"):\n",
        "  print(\"Folder exists!\")\n",
        "else:\n",
        "  print(\"Creating Folder...\")\n",
        "  os.system(\"mkdir \" + savePath + \"minecraftServer/java/vanilla\")\n",
        "  print(\"Downloading java server...\")\n",
        "  os.system(f\"wget {javaServerDownloadUrl} -O {savePath}/minecraftServer/java/vanilla/server.jar\")\n",
        "  print(\"Done!\")"
      ],
      "metadata": {
        "cellView": "form",
        "id": "eWOwZyM84Til"
      },
      "execution_count": null,
      "outputs": []
    },
    {
      "cell_type": "code",
      "source": [
        "#@markdown ## PaperMC\n",
        "\n",
        "import os, os.path\n",
        "import json\n",
        "import requests\n",
        "\n",
        "res = requests.get(\"https://gist.githubusercontent.com/osipxd/6119732e30059241c2192c4a8d2218d9/raw/c2beaf5ee892c55f21ec66d5e1e1969ea59082e4/paper-versions.json\")\n",
        "paperVersionList = json.loads(res.text)\n",
        "paperDownloadUrl = paperVersionList[\"versions\"][paperVersion]\n",
        "if os.path.exists(savePath + \"minecraftServer/java/paper\"):\n",
        "  print(\"Folder exists!\")\n",
        "else:\n",
        "  print(\"Creating Folder...\")\n",
        "  os.system(\"mkdir \" + savePath + \"minecraftServer/java/paper\")\n",
        "  print(\"Downloading java server...\")\n",
        "  os.system(f\"wget {paperDownloadUrl} -O {savePath}minecraftServer/java/paper/server.jar\")\n",
        "  print(\"Done!\")"
      ],
      "metadata": {
        "cellView": "form",
        "id": "JgJnXR4LZptu"
      },
      "execution_count": null,
      "outputs": []
    },
    {
      "cell_type": "markdown",
      "source": [
        "## 4. Start the server (Java)"
      ],
      "metadata": {
        "id": "29N43vyCZ8dL"
      }
    },
    {
      "cell_type": "code",
      "source": [
        "import pyngrok\n",
        "from pyngrok import ngrok, conf\n",
        "import getpass\n",
        "import requests\n",
        "\n",
        "%cd /content/\n",
        "\n",
        "def getData(path):\n",
        "  try:\n",
        "    return open(path, \"r\").read().replace(\"\\n\", \"\")\n",
        "  except:\n",
        "    return \"\"\n",
        "auth_token = getData(savePath + \"minecraftServer/ngtoken.txt\")\n",
        "webhookUrl = getData(savePath + \"minecraftServer/discordWebhook.txt\")\n",
        "if auth_token:\n",
        "  !ngrok authtoken \"$auth_token\"\n",
        "else:\n",
        "  raise ValueError(\"Failed to get ngrok token!\")\n",
        "\n",
        "serverRegion = \"ap\" #@param [\"us\", \"eu\", \"ap\", \"au\", \"sa\", \"jp\", \"in\"] {type: \"string\"}\n",
        "conf.get_default().region = serverRegion\n",
        "client = ngrok.connect(25565, 'tcp')\n",
        "serverip = ((str(client).split('\"')[1::2])[0]).replace('tcp://', '')\n",
        "print(\"Server IP: \" + serverip)\n",
        "if webhookUrl:\n",
        "  sendWebhook = requests.post(webhookUrl, json={\n",
        "    \"username\": \"Server IP\",\n",
        "    \"content\": \"**Server IP:** `{}`\".format(serverip)\n",
        "  })\n",
        "  print(\"Successfully sent the IP to the discord server!\" if sendWebhook.status_code == 204 else \"Failed to send the IP to the discord server! [{}]\".format(sendWebhook.status_code))\n",
        "\n",
        "software = \"vanilla\" #@param [\"vanilla\", \"paper\"] {type: \"string\"}\n",
        "minRam = 8 #@param {type: \"slider\", min: 1, max: 11, step: 1}\n",
        "maxRam = 11 #@param {type: \"slider\", min: 1, max: 11, step: 1}\n",
        "\n",
        "%cd $savePath\"/minecraftServer/java/\"$software\n",
        "!echo \"eula=true\" >> $savePath\"/minecraftServer/java/\"$software\"/eula.txt\"\n",
        "!java \"-Xmx\"$maxRam\"G\" \"-Xms\"$minRam\"G\" \"-jar\" $savePath\"minecraftServer/java/\"$software\"/server.jar\" \"nogui\""
      ],
      "metadata": {
        "id": "B5L_HvpfFy9k",
        "cellView": "form"
      },
      "execution_count": null,
      "outputs": []
    },
    {
      "cell_type": "markdown",
      "source": [
        "# For Minecraft Bedrock Edition (Currently ngrok is not support UDP port so this will not work)"
      ],
      "metadata": {
        "id": "3mkqXIPR_dh8"
      }
    },
    {
      "cell_type": "code",
      "source": [
        "#@markdown ## 1. Download bedrock server\n",
        "#@markdown ### Current: 1.19.50.02\n",
        "%cd /content/\n",
        "bedrockServerDownloadUrl = \"https://minecraft.azureedge.net/bin-linux/bedrock-server-1.19.50.02.zip\" #@param {type: \"string\"}\n",
        "!wget $bedrockServerDownloadUrl -O /content/bedrockServer.zip\n",
        "!mkdir $savePath\"minecraftServer/bedrock/vanilla\"\n",
        "!unzip bedrockServer.zip -d $savePath\"minecraftServer/bedrock/vanilla\"\n",
        "!rm -rf /content/bedrockServer.zip\n",
        "\n"
      ],
      "metadata": {
        "cellView": "form",
        "id": "dGRupyxw5wbE"
      },
      "execution_count": null,
      "outputs": []
    },
    {
      "cell_type": "code",
      "source": [
        "#@markdown ## 2. Start The Server (Bedrock)\n",
        "import pyngrok\n",
        "from pyngrok import ngrok, conf\n",
        "import getpass\n",
        "\n",
        "def getData(path):\n",
        "  try:\n",
        "    return open(path, \"r\").read().replace(\"\\n\", \"\")\n",
        "  except:\n",
        "    return \"\"\n",
        "\n",
        "webhookUrl = getData(savePath + \"minecraftServer/discordWebhook.txt\")\n",
        "\n",
        "conf.get_default().region = \"ap\"\n",
        "print(ngrok.connect(19132, 'udp'))\n",
        "\n",
        "%cd \"$savePath\"minecraftServer/bedrock/vanilla\n",
        "!LD_LIBRARY_PATH=. ./bedrock_server"
      ],
      "metadata": {
        "cellView": "form",
        "id": "F9Y2TZ2SAG1d"
      },
      "execution_count": null,
      "outputs": []
    },
    {
      "cell_type": "markdown",
      "source": [
        "# Tools"
      ],
      "metadata": {
        "id": "ywkpaKyuijEs"
      }
    },
    {
      "cell_type": "code",
      "source": [
        "#@markdown ## Quick add plugin (Paper)\n",
        "\n",
        "import os, os.path\n",
        "\n",
        "pluginUrl = \"https://mediafilez.forgecdn.net/files/3957/782/SuperVanish-6.2.12.jar\" #@param {type: \"string\"}\n",
        "\n",
        "def downloadPlugin():\n",
        "  global pluginUrl\n",
        "  if pluginUrl:\n",
        "    print(\"Fetching data from {}\".format(pluginUrl))\n",
        "    os.system(f\"wget {pluginUrl} -P {savePath}minecraftServer/java/paper/plugins/\")\n",
        "    print(f\"Done! Saved to {savePath}minecraftServer/java/paper/plugins\")\n",
        "  else:\n",
        "    print(\"Invaild URL!\")\n",
        "\n",
        "if os.path.exists(savePath + \"minecraftServer/java/paper/plugins\"):\n",
        "  downloadPlugin()\n",
        "else:\n",
        "  os.system(\"mkdir \" + savePath + \"minecraftServer/java/paper/plugins\")\n",
        "  downloadPlugin()\n"
      ],
      "metadata": {
        "id": "7ENkrdeCis3H",
        "cellView": "form"
      },
      "execution_count": null,
      "outputs": []
    }
  ]
}
