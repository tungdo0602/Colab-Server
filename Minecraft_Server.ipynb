{
  "nbformat": 4,
  "nbformat_minor": 0,
  "metadata": {
    "colab": {
      "provenance": []
    },
    "kernelspec": {
      "name": "python3",
      "display_name": "Python 3"
    },
    "language_info": {
      "name": "python"
    },
    "gpuClass": "standard"
  },
  "cells": [
    {
      "cell_type": "code",
      "source": [
        "#@markdown # Mount to drive\n",
        "from google.colab import drive\n",
        "drive.mount('/content/drive', force_remount=True)"
      ],
      "metadata": {
        "cellView": "form",
        "id": "m9kFWNwPQfiF"
      },
      "execution_count": null,
      "outputs": []
    },
    {
      "cell_type": "code",
      "source": [
        "#@markdown # Create Folder\n",
        "import os, os.path\n",
        "if os.path.exists(\"/content/drive/MyDrive/minecraftServer\"):\n",
        "  print(\"Folder exists!\")\n",
        "else:\n",
        "  print(\"Creating Folder...\")\n",
        "  os.system(\"mkdir /content/drive/MyDrive/minecraftServer\")\n",
        "  print(\"Done!\")"
      ],
      "metadata": {
        "cellView": "form",
        "id": "K9Oy06MoSai2"
      },
      "execution_count": null,
      "outputs": []
    },
    {
      "cell_type": "code",
      "source": [
        "#@markdown # Install requirements\n",
        "!pip -q install pyngrok"
      ],
      "metadata": {
        "id": "WHpjI5H7FuwR",
        "cellView": "form"
      },
      "execution_count": null,
      "outputs": []
    },
    {
      "cell_type": "markdown",
      "source": [
        "# For Minecraft Java Edition"
      ],
      "metadata": {
        "id": "GgVzzhLm_iZH"
      }
    },
    {
      "cell_type": "code",
      "execution_count": null,
      "metadata": {
        "id": "OLpGFhTADcm3",
        "cellView": "form"
      },
      "outputs": [],
      "source": [
        "#@markdown ## 1. Update to Java 19\n",
        "!wget https://download.oracle.com/java/19/latest/jdk-19_linux-x64_bin.deb\n",
        "!sudo apt install /content/jdk-19_linux-x64_bin.deb\n",
        "!rm -rf /content/jdk-19_linux-x64_bin.deb\n",
        "import os\n",
        "os.environ[\"JAVA_HOME\"] = \"/usr/lib/jvm/jdk-19\"\n",
        "!update-alternatives --install /usr/bin/java java /usr/lib/jvm/jdk-19/bin/java 1919\n",
        "!java -version"
      ]
    },
    {
      "cell_type": "code",
      "source": [
        "#@markdown ## 3. Download java server (Find download on https://mcversions.net/)\n",
        "#@markdown ### Current: 1.16.5\n",
        "#@markdown #### Warning: Don't do this step if you already setup a minecraft server in your drive\n",
        "\n",
        "import os, os.path\n",
        "javaServerDownloadUrl = \"https://launcher.mojang.com/v1/objects/1b557e7b033b583cd9f66746b7a9ab1ec1673ced/server.jar\" #@param {type: \"string\"}\n",
        "if os.path.exists(\"/content/drive/MyDrive/minecraftServer/java\"):\n",
        "  print(\"Folder exists!\")\n",
        "else:\n",
        "  print(\"Creating Folder...\")\n",
        "  os.system(\"mkdir /content/drive/MyDrive/minecraftServer/java\")\n",
        "  print(\"Downloading java server...\")\n",
        "  os.system(f\"wget {javaServerDownloadUrl} -O /content/drive/MyDrive/minecraftServer/java/server.jar\")\n",
        "  print(\"Done!\")"
      ],
      "metadata": {
        "cellView": "form",
        "id": "eWOwZyM84Til"
      },
      "execution_count": null,
      "outputs": []
    },
    {
      "cell_type": "code",
      "source": [
        "#@markdown ## 4. Start the server (Java)\n",
        "import pyngrok\n",
        "from pyngrok import ngrok, conf\n",
        "import getpass\n",
        "\n",
        "print(\"Get auth token from https://dashboard.ngrok.com/get-started/your-authtoken\")\n",
        "auth_token = getpass.getpass()\n",
        "!ngrok authtoken $auth_token\n",
        "\n",
        "conf.get_default().region = \"ap\"\n",
        "print(ngrok.connect(25565, 'tcp'))\n",
        "\n",
        "%cd /content/drive/MyDrive/minecraftServer/java\n",
        "!echo \"eula=true\" >> /content/drive/MyDrive/minecraftServer/java/eula.txt\n",
        "!java -Xmx10G -Xms10G  -jar /content/drive/MyDrive/minecraftServer/java/server.jar nogui"
      ],
      "metadata": {
        "id": "B5L_HvpfFy9k",
        "cellView": "form"
      },
      "execution_count": null,
      "outputs": []
    },
    {
      "cell_type": "markdown",
      "source": [
        "# For Minecraft Bedrock Edition"
      ],
      "metadata": {
        "id": "3mkqXIPR_dh8"
      }
    },
    {
      "cell_type": "code",
      "source": [
        "#@markdown ## 1. Download bedrock server\n",
        "#@markdown ### Current: 1.19.50.02\n",
        "%cd /content/\n",
        "bedrockServerDownloadUrl = \"https://minecraft.azureedge.net/bin-linux/bedrock-server-1.19.50.02.zip\" #@param {type: \"string\"}\n",
        "!wget $bedrockServerDownloadUrl -O /content/bedrockServer.zip\n",
        "!mkdir /content/drive/MyDrive/minecraftServer/bedrock\n",
        "!unzip bedrockServer.zip -d /content/drive/MyDrive/minecraftServer/bedrock\n",
        "\n"
      ],
      "metadata": {
        "cellView": "form",
        "id": "dGRupyxw5wbE"
      },
      "execution_count": null,
      "outputs": []
    },
    {
      "cell_type": "code",
      "source": [
        "#@markdown ## 2. Start The Server (Bedrock)\n",
        "import pyngrok\n",
        "from pyngrok import ngrok, conf\n",
        "import getpass\n",
        "\n",
        "print(\"Get auth token from https://dashboard.ngrok.com/get-started/your-authtoken\")\n",
        "auth_token = getpass.getpass()\n",
        "!ngrok authtoken $auth_token\n",
        "\n",
        "conf.get_default().region = \"ap\"\n",
        "print(ngrok.connect(19132, 'udp'))\n",
        "\n",
        "%cd /content/drive/MyDrive/minecraftServer/bedrock\n",
        "!LD_LIBRARY_PATH=. ./bedrock_server"
      ],
      "metadata": {
        "cellView": "form",
        "id": "F9Y2TZ2SAG1d"
      },
      "execution_count": null,
      "outputs": []
    }
  ]
}
