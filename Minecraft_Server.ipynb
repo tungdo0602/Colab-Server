{
  "nbformat": 4,
  "nbformat_minor": 0,
  "metadata": {
    "colab": {
      "provenance": [],
      "collapsed_sections": [
        "1ybuVw-cfal1",
        "GgVzzhLm_iZH",
        "8U3Ngh1sd4EW",
        "5Chi7SmnZwAv",
        "29N43vyCZ8dL",
        "3mkqXIPR_dh8"
      ]
    },
    "kernelspec": {
      "name": "python3",
      "display_name": "Python 3"
    },
    "language_info": {
      "name": "python"
    },
    "gpuClass": "standard"
  },
  "cells": [
    {
      "cell_type": "markdown",
      "source": [
        "# Prepare (required)"
      ],
      "metadata": {
        "id": "1ybuVw-cfal1"
      }
    },
    {
      "cell_type": "code",
      "source": [
        "#@markdown ## Mount to drive\n",
        "from google.colab import drive\n",
        "drive.mount('/content/drive', force_remount=True)"
      ],
      "metadata": {
        "cellView": "form",
        "id": "m9kFWNwPQfiF"
      },
      "execution_count": null,
      "outputs": []
    },
    {
      "cell_type": "code",
      "source": [
        "#@markdown ## Create Folder\n",
        "import os, os.path\n",
        "if os.path.exists(\"/content/drive/MyDrive/minecraftServer\"):\n",
        "  print(\"Folder exists!\")\n",
        "else:\n",
        "  print(\"Creating Folder...\")\n",
        "  os.system(\"mkdir /content/drive/MyDrive/minecraftServer\")\n",
        "  print(\"Done!\")\n",
        "\n",
        "if os.path.exists(\"/content/drive/MyDrive/minecraftServer/java\"):\n",
        "  print(\"Folder exists!\")\n",
        "else:\n",
        "  print(\"Creating Folder...\")\n",
        "  os.system(\"mkdir /content/drive/MyDrive/minecraftServer/java\")\n",
        "  print(\"Done!\")\n",
        "\n",
        "if os.path.exists(\"/content/drive/MyDrive/minecraftServer/bedrock\"):\n",
        "  print(\"Folder exists!\")\n",
        "else:\n",
        "  print(\"Creating Folder...\")\n",
        "  os.system(\"mkdir /content/drive/MyDrive/minecraftServer/bedrock\")\n",
        "  print(\"Done!\")"
      ],
      "metadata": {
        "cellView": "form",
        "id": "K9Oy06MoSai2"
      },
      "execution_count": null,
      "outputs": []
    },
    {
      "cell_type": "code",
      "source": [
        "#@markdown ## Install requirements\n",
        "!pip -q install pyngrok"
      ],
      "metadata": {
        "id": "WHpjI5H7FuwR",
        "cellView": "form"
      },
      "execution_count": null,
      "outputs": []
    },
    {
      "cell_type": "markdown",
      "source": [
        "# For Minecraft Java Edition"
      ],
      "metadata": {
        "id": "GgVzzhLm_iZH"
      }
    },
    {
      "cell_type": "markdown",
      "source": [
        "## 1. Update to Java 19"
      ],
      "metadata": {
        "id": "8U3Ngh1sd4EW"
      }
    },
    {
      "cell_type": "code",
      "execution_count": null,
      "metadata": {
        "id": "OLpGFhTADcm3"
      },
      "outputs": [],
      "source": [
        "!wget https://download.oracle.com/java/19/latest/jdk-19_linux-x64_bin.deb\n",
        "!sudo apt install /content/jdk-19_linux-x64_bin.deb\n",
        "!rm -rf /content/jdk-19_linux-x64_bin.deb\n",
        "import os\n",
        "os.environ[\"JAVA_HOME\"] = \"/usr/lib/jvm/jdk-19\"\n",
        "!update-alternatives --install /usr/bin/java java /usr/lib/jvm/jdk-19/bin/java 1919\n",
        "!java -version"
      ]
    },
    {
      "cell_type": "markdown",
      "source": [
        "## 2. Download java server software"
      ],
      "metadata": {
        "id": "5Chi7SmnZwAv"
      }
    },
    {
      "cell_type": "code",
      "source": [
        "#@markdown ## Vanilla (Find download on https://mcversions.net/)\n",
        "#@markdown #### Current: 1.16.5\n",
        "#@markdown #### Warning: Don't do this step if you already setup a minecraft server in your drive\n",
        "\n",
        "import os, os.path\n",
        "javaServerDownloadUrl = \"https://launcher.mojang.com/v1/objects/1b557e7b033b583cd9f66746b7a9ab1ec1673ced/server.jar\" #@param {type: \"string\"}\n",
        "if os.path.exists(\"/content/drive/MyDrive/minecraftServer/java/vanilla\"):\n",
        "  print(\"Folder exists!\")\n",
        "else:\n",
        "  print(\"Creating Folder...\")\n",
        "  os.system(\"mkdir /content/drive/MyDrive/minecraftServer/java/vanilla\")\n",
        "  print(\"Downloading java server...\")\n",
        "  os.system(f\"wget {javaServerDownloadUrl} -O /content/drive/MyDrive/minecraftServer/java/vanilla/server.jar\")\n",
        "  print(\"Done!\")"
      ],
      "metadata": {
        "cellView": "form",
        "id": "eWOwZyM84Til"
      },
      "execution_count": null,
      "outputs": []
    },
    {
      "cell_type": "code",
      "source": [
        "#@markdown ## PaperMC\n",
        "#@markdown #### Warning: Don't do this step if you already setup a minecraft server in your drive\n",
        "\n",
        "import os, os.path\n",
        "import json\n",
        "import requests\n",
        "\n",
        "res = requests.get(\"https://gist.githubusercontent.com/osipxd/6119732e30059241c2192c4a8d2218d9/raw/056124bdd6b7efa432a19ca9daa1eae87a820486/paper-versions.json\")\n",
        "\n",
        "paperVersion = \"1.16.5\" #@param [\"1.19.3\",\"1.19.2\",\"1.19.1\",\"1.19\",\"1.18.2\",\"1.18.1\",\"1.18\",\"1.17.1\",\"1.17\",\"1.16.5\",\"1.16.4\",\"1.16.3\",\"1.16.2\",\"1.16.1\",\"1.15.2\",\"1.14.4\",\"1.13.2\",\"1.12.2\",\"1.11.2\",\"1.10.2\",\"1.9.4\",\"1.8.8\"] {type: \"string\"}\n",
        "paperVersionList = json.loads(res.text)\n",
        "paperDownloadUrl = paperVersionList[\"versions\"][paperVersion]\n",
        "if os.path.exists(\"/content/drive/MyDrive/minecraftServer/java/paper\"):\n",
        "  print(\"Folder exists!\")\n",
        "else:\n",
        "  print(\"Creating Folder...\")\n",
        "  os.system(\"mkdir /content/drive/MyDrive/minecraftServer/java/paper\")\n",
        "  print(\"Downloading java server...\")\n",
        "  os.system(f\"wget {paperDownloadUrl} -O /content/drive/MyDrive/minecraftServer/java/paper/server.jar\")\n",
        "  print(\"Done!\")"
      ],
      "metadata": {
        "cellView": "form",
        "id": "JgJnXR4LZptu"
      },
      "execution_count": null,
      "outputs": []
    },
    {
      "cell_type": "markdown",
      "source": [
        "## 3. Start the server (Java)"
      ],
      "metadata": {
        "id": "29N43vyCZ8dL"
      }
    },
    {
      "cell_type": "code",
      "source": [
        "import pyngrok\n",
        "from pyngrok import ngrok, conf\n",
        "import getpass\n",
        "\n",
        "print(\"Get auth token from https://dashboard.ngrok.com/get-started/your-authtoken\")\n",
        "auth_token = getpass.getpass()\n",
        "!ngrok authtoken $auth_token\n",
        "\n",
        "conf.get_default().region = \"ap\"\n",
        "print(ngrok.connect(25565, 'tcp'))\n",
        "\n",
        "software = \"vanilla\" #@param [\"vanilla\", \"paper\"] {type: \"string\"}\n",
        "\n",
        "%cd /content/drive/MyDrive/minecraftServer/java/$software\n",
        "!echo \"eula=true\" >> /content/drive/MyDrive/minecraftServer/java/$software/eula.txt\n",
        "!java -Xmx10G -Xms10G  -jar /content/drive/MyDrive/minecraftServer/java/$software/server.jar nogui"
      ],
      "metadata": {
        "id": "B5L_HvpfFy9k",
        "cellView": "form"
      },
      "execution_count": null,
      "outputs": []
    },
    {
      "cell_type": "markdown",
      "source": [
        "# For Minecraft Bedrock Edition (Currently ngrok is not support UDP port so this will not work)"
      ],
      "metadata": {
        "id": "3mkqXIPR_dh8"
      }
    },
    {
      "cell_type": "code",
      "source": [
        "#@markdown ## 1. Download bedrock server\n",
        "#@markdown ### Current: 1.19.50.02\n",
        "%cd /content/\n",
        "bedrockServerDownloadUrl = \"https://minecraft.azureedge.net/bin-linux/bedrock-server-1.19.50.02.zip\" #@param {type: \"string\"}\n",
        "!wget $bedrockServerDownloadUrl -O /content/bedrockServer.zip\n",
        "!mkdir /content/drive/MyDrive/minecraftServer/bedrock/vanilla\n",
        "!unzip bedrockServer.zip -d /content/drive/MyDrive/minecraftServer/bedrock/vanilla\n",
        "!rm -rf /content/bedrockServer.zip\n",
        "\n"
      ],
      "metadata": {
        "cellView": "form",
        "id": "dGRupyxw5wbE"
      },
      "execution_count": null,
      "outputs": []
    },
    {
      "cell_type": "code",
      "source": [
        "#@markdown ## 2. Start The Server (Bedrock)\n",
        "import pyngrok\n",
        "from pyngrok import ngrok, conf\n",
        "import getpass\n",
        "\n",
        "print(\"Get auth token from https://dashboard.ngrok.com/get-started/your-authtoken\")\n",
        "auth_token = getpass.getpass()\n",
        "!ngrok authtoken $auth_token\n",
        "\n",
        "conf.get_default().region = \"ap\"\n",
        "print(ngrok.connect(19132, 'udp'))\n",
        "\n",
        "%cd /content/drive/MyDrive/minecraftServer/bedrock/vanilla\n",
        "!LD_LIBRARY_PATH=. ./bedrock_server"
      ],
      "metadata": {
        "cellView": "form",
        "id": "F9Y2TZ2SAG1d"
      },
      "execution_count": null,
      "outputs": []
    }
  ]
}
