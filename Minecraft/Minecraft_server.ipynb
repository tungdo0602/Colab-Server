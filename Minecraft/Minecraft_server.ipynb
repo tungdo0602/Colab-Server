{
  "cells": [
    {
      "cell_type": "markdown",
      "metadata": {
        "id": "1ybuVw-cfal1"
      },
      "source": [
        "# Prepare (required)"
      ]
    },
    {
      "cell_type": "code",
      "execution_count": 1,
      "metadata": {
        "cellView": "form",
        "id": "i8nYpdcU5j8j"
      },
      "outputs": [],
      "source": [
        "#@markdown ## Save Mode\n",
        "\n",
        "saveMode = \"googleDrive\" #@param [\"temporary\", \"googleDrive\"] {\"type\": \"string\"}\n",
        "savePath = \"\"\n",
        "if saveMode.lower() == \"temporary\":\n",
        "  savePath = \"/content/\"\n",
        "else:\n",
        "  savePath = \"/content/drive/MyDrive/\""
      ]
    },
    {
      "cell_type": "code",
      "execution_count": null,
      "metadata": {
        "cellView": "form",
        "id": "m9kFWNwPQfiF"
      },
      "outputs": [],
      "source": [
        "#@markdown ## Mount to drive\n",
        "#@markdown ### If you use googleDrive mode then run this cell\n",
        "from google.colab import drive\n",
        "drive.mount('/content/drive', force_remount=True)"
      ]
    },
    {
      "cell_type": "code",
      "execution_count": 4,
      "metadata": {
        "cellView": "form",
        "id": "K9Oy06MoSai2",
        "colab": {
          "base_uri": "https://localhost:8080/"
        },
        "outputId": "cf9e4d6e-c6f5-422a-8837-e12c42d3beb8"
      },
      "outputs": [
        {
          "output_type": "stream",
          "name": "stdout",
          "text": [
            "Creating Folder...\n",
            "Done!\n",
            "Creating Folder...\n",
            "Done!\n",
            "Creating Folder...\n",
            "Done!\n"
          ]
        }
      ],
      "source": [
        "#@markdown ## Create Folder\n",
        "#@markdown #### Don't do this step if you have already setup a minecraft server in your drive\n",
        "import os, os.path\n",
        "if os.path.exists(savePath + \"minecraftServer\"):\n",
        "  print(\"Folder exists!\")\n",
        "else:\n",
        "  print(\"Creating Folder...\")\n",
        "  os.system(f\"mkdir \" + savePath + \"minecraftServer\")\n",
        "  print(\"Done!\")\n",
        "\n",
        "if os.path.exists(savePath + \"minecraftServer/java\"):\n",
        "  print(\"Folder exists!\")\n",
        "else:\n",
        "  print(\"Creating Folder...\")\n",
        "  os.system(\"mkdir \" + savePath + \"minecraftServer/java\")\n",
        "  print(\"Done!\")\n",
        "\n",
        "if os.path.exists(savePath + \"minecraftServer/bedrock\"):\n",
        "  print(\"Folder exists!\")\n",
        "else:\n",
        "  print(\"Creating Folder...\")\n",
        "  os.system(\"mkdir \" + savePath + \"minecraftServer/bedrock\")\n",
        "  print(\"Done!\")"
      ]
    },
    {
      "cell_type": "code",
      "execution_count": null,
      "metadata": {
        "cellView": "form",
        "id": "WHpjI5H7FuwR"
      },
      "outputs": [],
      "source": [
        "#@markdown ## Install requirements\n",
        "!pip install -U pyngrok\n",
        "!pip install -U minecraftVersions\n",
        "!curl -SsL https://playit-cloud.github.io/ppa/key.gpg | gpg --dearmor | sudo tee /etc/apt/trusted.gpg.d/playit.gpg >/dev/null\n",
        "!echo \"deb [signed-by=/etc/apt/trusted.gpg.d/playit.gpg] https://playit-cloud.github.io/ppa/data ./\" | sudo tee /etc/apt/sources.list.d/playit-cloud.list\n",
        "!sudo apt update\n",
        "!sudo apt install playit"
      ]
    },
    {
      "cell_type": "code",
      "execution_count": 6,
      "metadata": {
        "cellView": "form",
        "id": "ubuAeLWLP-tq"
      },
      "outputs": [],
      "source": [
        "#@markdown ## Choose tunneling service [Required]\n",
        "service = \"playit\" #@param [\"ngrok\", \"playit\"] {type: \"string\"}"
      ]
    },
    {
      "cell_type": "code",
      "source": [
        "#@markdown # Set Ngrok token (Ngrok only)\n",
        "print(\"Get auth token from https://dashboard.ngrok.com/get-started/your-authtoken\")\n",
        "ngtoken = input()\n",
        "with open(savePath+\"minecraftServer/ngtoken.txt\", \"w\") as f:\n",
        "  f.write(ngtoken)"
      ],
      "metadata": {
        "cellView": "form",
        "id": "ED72FodmLB5H"
      },
      "execution_count": null,
      "outputs": []
    },
    {
      "cell_type": "code",
      "source": [
        "#@markdown # Setup playit.gg tunnel\n",
        "#@markdown #### Tip: Create \"Minecraft\" tunnel type.\n",
        "#@markdown #### \"Minecraft java\" for java server and \"Minecraft bedrock\" for bedrock server\n",
        "#@markdown #### Required if you haven't made any tunnel.\n",
        "!playit setup"
      ],
      "metadata": {
        "cellView": "form",
        "id": "osXEyNKbSOLH"
      },
      "execution_count": null,
      "outputs": []
    },
    {
      "cell_type": "code",
      "execution_count": null,
      "metadata": {
        "cellView": "form",
        "id": "h5RBQ5QHOon4"
      },
      "outputs": [],
      "source": [
        "#@markdown ## Discord Webhook (For announcing server IP) [optional] (Ngrok only)\n",
        "import getpass\n",
        "discordWebhook = getpass.getpass()\n",
        "with open(savePath+\"/minecraftServer/discordWebhook.txt\", \"w\") as f:\n",
        "  f.write(discordWebhook)"
      ]
    },
    {
      "cell_type": "markdown",
      "metadata": {
        "id": "GgVzzhLm_iZH"
      },
      "source": [
        "# For Minecraft Java Edition"
      ]
    },
    {
      "cell_type": "markdown",
      "metadata": {
        "id": "8U3Ngh1sd4EW"
      },
      "source": [
        "## 1. Update Java"
      ]
    },
    {
      "cell_type": "code",
      "execution_count": null,
      "metadata": {
        "cellView": "form",
        "id": "bCE8hRcPcAjy"
      },
      "outputs": [],
      "source": [
        "#@markdown ## Java 16\n",
        "%cd /content/\n",
        "!wget https://files03.tchspt.com/down/jdk-16.0.2_linux-x64_bin.deb\n",
        "!sudo apt install /content/jdk-16.0.2_linux-x64_bin.deb\n",
        "!rm -rf /content/jdk-16.0.2_linux-x64_bin.deb\n",
        "import os\n",
        "os.environ[\"JAVA_HOME\"] = \"/usr/lib/jvm/jdk-16.0.2\"\n",
        "!update-alternatives --install /usr/bin/java java /usr/lib/jvm/jdk-16.0.2/bin/java 1919\n",
        "!java -version"
      ]
    },
    {
      "cell_type": "code",
      "execution_count": null,
      "metadata": {
        "cellView": "form",
        "id": "2s3IMgpTlImC"
      },
      "outputs": [],
      "source": [
        "#@markdown ## Java 17 (Paper 1.18 and above)\n",
        "%cd /content/\n",
        "!wget https://download.oracle.com/java/17/archive/jdk-17.0.6_linux-x64_bin.deb\n",
        "!sudo apt install /content/jdk-17.0.6_linux-x64_bin.deb\n",
        "!rm -rf /content/jdk-17.0.6_linux-x64_bin.deb\n",
        "import os\n",
        "os.environ[\"JAVA_HOME\"] = \"/usr/lib/jvm/jdk-17\"\n",
        "!update-alternatives --install /usr/bin/java java /usr/lib/jvm/jdk-17/bin/java 1919\n",
        "!java -version"
      ]
    },
    {
      "cell_type": "code",
      "execution_count": null,
      "metadata": {
        "cellView": "form",
        "id": "OLpGFhTADcm3"
      },
      "outputs": [],
      "source": [
        "#@markdown ## Java 19 (Latest version)\n",
        "%cd /content/\n",
        "!wget https://download.oracle.com/java/19/latest/jdk-19_linux-x64_bin.deb\n",
        "!sudo apt install /content/jdk-19_linux-x64_bin.deb\n",
        "!rm -rf /content/jdk-19_linux-x64_bin.deb\n",
        "import os\n",
        "os.environ[\"JAVA_HOME\"] = \"/usr/lib/jvm/jdk-19\"\n",
        "!update-alternatives --install /usr/bin/java java /usr/lib/jvm/jdk-19/bin/java 1919\n",
        "!java -version"
      ]
    },
    {
      "cell_type": "markdown",
      "metadata": {
        "id": "5Chi7SmnZwAv"
      },
      "source": [
        "## 3. Download server software (click the arrow to expand)\n",
        "#### Warning: Don't do this step if you already setup a minecraft server in your drive"
      ]
    },
    {
      "cell_type": "code",
      "execution_count": null,
      "metadata": {
        "cellView": "form",
        "id": "Ui2XV_wohTru",
        "collapsed": true
      },
      "outputs": [],
      "source": [
        "#@markdown ## 2. Set config\n",
        "#@markdown ### Run the cell to change the config\n",
        "import ipywidgets as widgets\n",
        "from IPython.display import display\n",
        "import minecraftVersions as MCVersion\n",
        "import requests\n",
        "\n",
        "serverType = \"paper\" #@param [\"vanilla\", \"paper\"]\n",
        "\n",
        "mc = MCVersion.MCVersion()\n",
        "\n",
        "javaServerDownloadUrl = mc.latest().release().server().url\n",
        "vanillaVersionGui = widgets.Dropdown(\n",
        "    options=mc.getAllVersions().toList(),\n",
        "    value=mc.latest().release().version,\n",
        "    description='MC Version:',\n",
        ")\n",
        "\n",
        "paperlist = requests.get(\"https://papermc.io/api/v2/projects/paper\").json()[\"versions\"]\n",
        "paperVersion = paperlist[-1]\n",
        "paperVersionGui = widgets.Dropdown(\n",
        "    options=paperlist,\n",
        "    value=paperVersion,\n",
        "    description='PaperMC Version:',\n",
        ")\n",
        "\n",
        "saveButton = widgets.Button(description=\"Save\")\n",
        "def save_config(*arg):\n",
        "  global vanillaVersionGui\n",
        "  global javaServerDownloadUrl\n",
        "  global paperVersion\n",
        "  javaServerDownloadUrl = mc.getVersion(vanillaVersionGui.value).server().url\n",
        "  paperVersion = paperVersionGui.value\n",
        "  print(\"Saved\")\n",
        "\n",
        "saveButton.on_click(save_config)\n",
        "\n",
        "if serverType == \"vanilla\":\n",
        "  display(vanillaVersionGui)\n",
        "else:\n",
        "  display(paperVersionGui)\n",
        "display(saveButton)"
      ]
    },
    {
      "cell_type": "code",
      "execution_count": null,
      "metadata": {
        "cellView": "form",
        "id": "eWOwZyM84Til"
      },
      "outputs": [],
      "source": [
        "#@markdown ## Vanilla\n",
        "\n",
        "import os, os.path\n",
        "if os.path.exists(savePath + \"minecraftServer/java/vanilla\"):\n",
        "  print(\"Folder exists!\")\n",
        "else:\n",
        "  print(\"Creating Folder...\")\n",
        "  os.system(\"mkdir \" + savePath + \"minecraftServer/java/vanilla\")\n",
        "  print(\"Downloading java server...\")\n",
        "  os.system(f\"wget {javaServerDownloadUrl} -O {savePath}/minecraftServer/java/vanilla/server.jar\")\n",
        "  print(\"Done!\")"
      ]
    },
    {
      "cell_type": "code",
      "execution_count": 9,
      "metadata": {
        "cellView": "form",
        "id": "JgJnXR4LZptu",
        "colab": {
          "base_uri": "https://localhost:8080/"
        },
        "outputId": "6930c736-54f8-46b8-9463-65a7a842f967"
      },
      "outputs": [
        {
          "output_type": "stream",
          "name": "stdout",
          "text": [
            "Creating Folder...\n",
            "Downloading java server...\n",
            "Done!\n"
          ]
        }
      ],
      "source": [
        "#@markdown ## PaperMC\n",
        "\n",
        "import os, os.path\n",
        "import json\n",
        "import requests\n",
        "\n",
        "res = requests.get(\"https://api.papermc.io/v2/projects/paper/versions/{}/builds/\".format(paperVersion))\n",
        "latestBuild = res.json()[\"builds\"][-1]\n",
        "paperDownloadUrl = \"https://api.papermc.io/v2/projects/paper/versions/{}/builds/{}/downloads/{}\".format(paperVersion, latestBuild[\"build\"], latestBuild[\"downloads\"][\"application\"][\"name\"])\n",
        "if os.path.exists(savePath + \"minecraftServer/java/paper\"):\n",
        "  print(\"Folder exists!\")\n",
        "else:\n",
        "  print(\"Creating Folder...\")\n",
        "  os.system(\"mkdir \" + savePath + \"minecraftServer/java/paper\")\n",
        "  print(\"Downloading java server...\")\n",
        "  os.system(f\"wget {paperDownloadUrl} -O {savePath}minecraftServer/java/paper/server.jar\")\n",
        "  print(\"Done!\")"
      ]
    },
    {
      "cell_type": "markdown",
      "metadata": {
        "id": "29N43vyCZ8dL"
      },
      "source": [
        "## 4. Start the server (Java)"
      ]
    },
    {
      "cell_type": "code",
      "execution_count": null,
      "metadata": {
        "id": "B5L_HvpfFy9k",
        "cellView": "form",
        "colab": {
          "base_uri": "https://localhost:8080/"
        },
        "outputId": "15be3c3b-59a0-4261-b08b-8770fab998a0"
      },
      "outputs": [
        {
          "output_type": "stream",
          "name": "stdout",
          "text": [
            "/content\n",
            "/content/drive/MyDrive/minecraftServer/java/paper\n",
            "Playit thread started!\n",
            "Downloading vanilla jar...\n",
            "Patching vanilla jar...\n",
            "System Info: Java 16 (Java HotSpot(TM) 64-Bit Server VM 16.0.2+7-67) Host: Linux 6.1.85+ (amd64)\n",
            "Loading libraries, please wait...\n"
          ]
        }
      ],
      "source": [
        "#@markdown #### Make you you have set the tunneling service in previous step!\n",
        "#@markdown #### Server Region also Ngrok only.\n",
        "import pyngrok\n",
        "from pyngrok import ngrok, conf\n",
        "import getpass\n",
        "import requests\n",
        "import os\n",
        "import threading\n",
        "import time\n",
        "\n",
        "%cd /content/\n",
        "\n",
        "def getData(path):\n",
        "  try:\n",
        "    return open(path, \"r\").read().replace(\"\\n\", \"\")\n",
        "  except:\n",
        "    return \"\"\n",
        "\n",
        "def getServerProp(fp,p):\n",
        "    with open(fp, \"r\") as f:\n",
        "        for i in f.read().splitlines():\n",
        "            if i[0] != \"#\":\n",
        "                k,v = i.split(\"=\")\n",
        "                if p == k:\n",
        "                    return v\n",
        "\n",
        "webhookUrl = getData(savePath + \"minecraftServer/discordWebhook.txt\")\n",
        "\n",
        "auth_token = getData(savePath + \"minecraftServer/ngtoken.txt\")\n",
        "serverRegion = \"ap\" #@param [\"us\", \"eu\", \"ap\", \"au\", \"sa\", \"jp\", \"in\"] {type: \"string\"}\n",
        "software = \"paper\" #@param [\"vanilla\", \"paper\"] {type: \"string\"}\n",
        "memory = 11 #@param {type: \"slider\", min: 1, max: 12, step: 1}\n",
        "try:\n",
        "  serverPort = int(getServerProp(f\"{savePath}minecraftServer/java/{software}/server.properties\", \"server-port\"))\n",
        "except:\n",
        "  serverPort = 25565\n",
        "\n",
        "if service == \"ngrok\":\n",
        "  if auth_token:\n",
        "    !ngrok authtoken \"$auth_token\"\n",
        "  else:\n",
        "    raise ValueError(\"Failed to get ngrok token!\")\n",
        "  conf.get_default().region = serverRegion\n",
        "\n",
        "  client = ngrok.connect(serverPort, 'tcp')\n",
        "  serverip = ((str(client).split('\"')[1::2])[0]).replace('tcp://', '')\n",
        "  print(\"Server IP: \" + serverip)\n",
        "  sendWebhook = requests.post(webhookUrl, json={\n",
        "    \"username\": \"Server Status\",\n",
        "    \"content\": \"**Server IP:** `{}`\".format(serverip)\n",
        "  })\n",
        "  print(\"Successfully sent the IP to the discord server!\" if sendWebhook.status_code == 204 else \"Failed to send the IP to the discord server! [{}]\".format(sendWebhook.status_code))\n",
        "\n",
        "%cd $savePath\"/minecraftServer/java/\"$software\n",
        "with open(f\"{savePath}minecraftServer/java/{software}/eula.txt\", \"w\") as f:\n",
        "  f.write(\"eula=true\")\n",
        "  f.close()\n",
        "\n",
        "def playitThread():\n",
        "  print(\"Playit thread started!\")\n",
        "  os.system(\"playit\")\n",
        "\n",
        "if service == \"playit\":\n",
        "  threading.Thread(target=playitThread).start()\n",
        "  time.sleep(1)\n",
        "!java -Xms\"$memory\"G -Xmx\"$memory\"G -jar \"$savePath\"minecraftServer/java/$software/server.jar nogui"
      ]
    },
    {
      "cell_type": "markdown",
      "metadata": {
        "id": "3mkqXIPR_dh8"
      },
      "source": [
        "# For Minecraft Bedrock"
      ]
    },
    {
      "cell_type": "code",
      "execution_count": null,
      "metadata": {
        "cellView": "form",
        "id": "dGRupyxw5wbE"
      },
      "outputs": [],
      "source": [
        "#@markdown ## 1. Download bedrock server\n",
        "import ipywidgets as widgets\n",
        "from IPython.display import display\n",
        "import requests\n",
        "\n",
        "versions = {}\n",
        "\n",
        "res = requests.get(\"https://raw.githubusercontent.com/tungdo0602/Minecraft-BDS-db/main/versions.json\")\n",
        "if res.status_code == 200:\n",
        "  versions = res.json()\n",
        "\n",
        "%cd /content/\n",
        "\n",
        "versionsList = list(versions.keys())\n",
        "\n",
        "bedrockVerGui = widgets.Dropdown(\n",
        "    options=versionsList,\n",
        "    value=versionsList[0],\n",
        "    description='MC Version:',\n",
        ")\n",
        "\n",
        "downloadBnt = widgets.Button(description=\"Download\")\n",
        "def downloadMC(*arg):\n",
        "  global bedrockVerGui\n",
        "  url = versions[bedrockVerGui.value][\"Linux\"]\n",
        "  !wget \"$url\" -O /content/bedrockServer.zip\n",
        "  !mkdir \"$savePath\"minecraftServer/bedrock/vanilla\n",
        "  !unzip bedrockServer.zip -d \"$savePath\"minecraftServer/bedrock/vanilla\n",
        "  !rm -rf /content/bedrockServer.zip\n",
        "  print(\"Done!\")\n",
        "downloadBnt.on_click(downloadMC)\n",
        "display(bedrockVerGui)\n",
        "display(downloadBnt)"
      ]
    },
    {
      "cell_type": "code",
      "execution_count": null,
      "metadata": {
        "cellView": "form",
        "id": "F9Y2TZ2SAG1d"
      },
      "outputs": [],
      "source": [
        "#@markdown ## 2. Start The Server (Bedrock)\n",
        "import pyngrok\n",
        "from pyngrok import ngrok, conf\n",
        "import getpass\n",
        "\n",
        "def getData(path):\n",
        "  try:\n",
        "    return open(path, \"r\").read().replace(\"\\n\", \"\")\n",
        "  except:\n",
        "    return \"\"\n",
        "\n",
        "webhookUrl = getData(savePath + \"minecraftServer/discordWebhook.txt\")\n",
        "\n",
        "conf.get_default().region = \"ap\"\n",
        "print(ngrok.connect(19132, 'udp'))\n",
        "\n",
        "%cd \"$savePath\"minecraftServer/bedrock/vanilla\n",
        "!LD_LIBRARY_PATH=. ./bedrock_server"
      ]
    },
    {
      "cell_type": "markdown",
      "metadata": {
        "id": "ywkpaKyuijEs"
      },
      "source": [
        "# Tools"
      ]
    },
    {
      "cell_type": "code",
      "execution_count": null,
      "metadata": {
        "cellView": "form",
        "colab": {
          "base_uri": "https://localhost:8080/"
        },
        "id": "7ENkrdeCis3H",
        "outputId": "aa0b0226-fee9-46d2-910f-eeca7a4d4320"
      },
      "outputs": [
        {
          "name": "stdout",
          "output_type": "stream",
          "text": [
            "Fetching data from https://mediafilez.forgecdn.net/files/3348/374/OpenInv.jar\n",
            "Done! Saved to /content/drive/MyDrive/minecraftServer/java/paper/plugins\n"
          ]
        }
      ],
      "source": [
        "#@markdown ## Quick add plugin (Paper)\n",
        "\n",
        "import os, os.path\n",
        "\n",
        "pluginUrl = \"https://mediafilez.forgecdn.net/files/3348/374/OpenInv.jar\" #@param {type: \"string\"}\n",
        "\n",
        "def downloadPlugin():\n",
        "  global pluginUrl\n",
        "  if pluginUrl:\n",
        "    print(\"Fetching data from {}\".format(pluginUrl))\n",
        "    os.system(f\"wget {pluginUrl} -P {savePath}minecraftServer/java/paper/plugins/\")\n",
        "    print(f\"Done! Saved to {savePath}minecraftServer/java/paper/plugins\")\n",
        "  else:\n",
        "    print(\"Invaild URL!\")\n",
        "\n",
        "if os.path.exists(savePath + \"minecraftServer/java/paper/plugins\"):\n",
        "  downloadPlugin()\n",
        "else:\n",
        "  os.system(\"mkdir \" + savePath + \"minecraftServer/java/paper/plugins\")\n",
        "  downloadPlugin()\n"
      ]
    }
  ],
  "metadata": {
    "colab": {
      "collapsed_sections": [
        "ywkpaKyuijEs"
      ],
      "provenance": []
    },
    "gpuClass": "standard",
    "kernelspec": {
      "display_name": "Python 3",
      "name": "python3"
    },
    "language_info": {
      "name": "python"
    }
  },
  "nbformat": 4,
  "nbformat_minor": 0
}
