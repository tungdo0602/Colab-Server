{
  "cells": [
    {
      "cell_type": "markdown",
      "metadata": {
        "id": "1ybuVw-cfal1"
      },
      "source": [
        "# Prepare (required)"
      ]
    },
    {
      "cell_type": "code",
      "execution_count": null,
      "metadata": {
        "cellView": "form",
        "id": "i8nYpdcU5j8j"
      },
      "outputs": [],
      "source": [
        "#@markdown ## Save Mode\n",
        "\n",
        "saveMode = \"googleDrive\" #@param [\"temporary\", \"googleDrive\"] {\"type\": \"string\"}\n",
        "savePath = \"\"\n",
        "if saveMode.lower() == \"temporary\":\n",
        "  savePath = \"/content/\"\n",
        "else:\n",
        "  savePath = \"/content/drive/MyDrive/\""
      ]
    },
    {
      "cell_type": "code",
      "execution_count": null,
      "metadata": {
        "cellView": "form",
        "id": "m9kFWNwPQfiF"
      },
      "outputs": [],
      "source": [
        "#@markdown ## Mount to drive\n",
        "#@markdown ### If you use googleDrive mode run this cell\n",
        "from google.colab import drive\n",
        "drive.mount('/content/drive', force_remount=True)"
      ]
    },
    {
      "cell_type": "code",
      "execution_count": null,
      "metadata": {
        "cellView": "form",
        "id": "K9Oy06MoSai2"
      },
      "outputs": [],
      "source": [
        "#@markdown ## Create Folder\n",
        "#@markdown #### Warning: Don't do this step if you already setup a minecraft server in your drive\n",
        "import os, os.path\n",
        "cf = input(\"Area you sure? [Y/N]: \")\n",
        "if cf.lower() == \"y\":\n",
        "  if os.path.exists(savePath + \"minecraftServer\"):\n",
        "    print(\"Folder exists!\")\n",
        "  else:\n",
        "    print(\"Creating Folder...\")\n",
        "    os.system(f\"mkdir \" + savePath + \"minecraftServer\")\n",
        "    print(\"Done!\")\n",
        "\n",
        "  if os.path.exists(savePath + \"minecraftServer/java\"):\n",
        "    print(\"Folder exists!\")\n",
        "  else:\n",
        "    print(\"Creating Folder...\")\n",
        "    os.system(\"mkdir \" + savePath + \"minecraftServer/java\")\n",
        "    print(\"Done!\")\n",
        "\n",
        "  if os.path.exists(savePath + \"minecraftServer/bedrock\"):\n",
        "    print(\"Folder exists!\")\n",
        "  else:\n",
        "    print(\"Creating Folder...\")\n",
        "    os.system(\"mkdir \" + savePath + \"minecraftServer/bedrock\")\n",
        "    print(\"Done!\")\n",
        "else:\n",
        "  print(\"Ok!\")"
      ]
    },
    {
      "cell_type": "code",
      "execution_count": null,
      "metadata": {
        "cellView": "form",
        "id": "WHpjI5H7FuwR"
      },
      "outputs": [],
      "source": [
        "#@markdown ## Install requirements\n",
        "!pip install -U pyngrok\n",
        "!pip install -U minecraftVersions"
      ]
    },
    {
      "cell_type": "code",
      "execution_count": null,
      "metadata": {
        "cellView": "form",
        "id": "ubuAeLWLP-tq"
      },
      "outputs": [],
      "source": [
        "#@markdown ## Ngrok auth token (For tunneling the server) [Required]\n",
        "import getpass\n",
        "print(\"Get auth token from https://dashboard.ngrok.com/get-started/your-authtoken\")\n",
        "ngtoken = getpass.getpass()\n",
        "with open(savePath+\"minecraftServer/ngtoken.txt\", \"w\") as f:\n",
        "  f.write(ngtoken)"
      ]
    },
    {
      "cell_type": "code",
      "execution_count": null,
      "metadata": {
        "cellView": "form",
        "id": "h5RBQ5QHOon4"
      },
      "outputs": [],
      "source": [
        "#@markdown ## Discord Webhook (For announcing server IP) [optional]\n",
        "import getpass\n",
        "discordWebhook = getpass.getpass()\n",
        "with open(savePath+\"/minecraftServer/discordWebhook.txt\", \"w\") as f:\n",
        "  f.write(discordWebhook)"
      ]
    },
    {
      "cell_type": "markdown",
      "metadata": {
        "id": "GgVzzhLm_iZH"
      },
      "source": [
        "# For Minecraft Java Edition"
      ]
    },
    {
      "cell_type": "markdown",
      "metadata": {
        "id": "8U3Ngh1sd4EW"
      },
      "source": [
        "## 1. Update Java"
      ]
    },
    {
      "cell_type": "code",
      "execution_count": null,
      "metadata": {
        "cellView": "form",
        "id": "bCE8hRcPcAjy"
      },
      "outputs": [],
      "source": [
        "#@markdown ## Java 16\n",
        "%cd /content/\n",
        "!wget https://files02.tchspt.com/temp/jdk-16.0.2_linux-x64_bin.deb\n",
        "!sudo apt install /content/jdk-16.0.2_linux-x64_bin.deb\n",
        "!rm -rf /content/jdk-16.0.2_linux-x64_bin.deb\n",
        "import os\n",
        "os.environ[\"JAVA_HOME\"] = \"/usr/lib/jvm/jdk-16.0.2\"\n",
        "!update-alternatives --install /usr/bin/java java /usr/lib/jvm/jdk-16.0.2/bin/java 1919\n",
        "!java -version"
      ]
    },
    {
      "cell_type": "code",
      "execution_count": null,
      "metadata": {
        "cellView": "form",
        "id": "2s3IMgpTlImC"
      },
      "outputs": [],
      "source": [
        "#@markdown ## Java 17 (Paper 1.18 and above)\n",
        "%cd /content/\n",
        "!wget https://download.oracle.com/java/17/archive/jdk-17.0.6_linux-x64_bin.deb\n",
        "!sudo apt install /content/jdk-17.0.6_linux-x64_bin.deb\n",
        "!rm -rf /content/jdk-17.0.6_linux-x64_bin.deb\n",
        "import os\n",
        "os.environ[\"JAVA_HOME\"] = \"/usr/lib/jvm/jdk-17\"\n",
        "!update-alternatives --install /usr/bin/java java /usr/lib/jvm/jdk-17/bin/java 1919\n",
        "!java -version"
      ]
    },
    {
      "cell_type": "code",
      "execution_count": null,
      "metadata": {
        "cellView": "form",
        "id": "OLpGFhTADcm3"
      },
      "outputs": [],
      "source": [
        "#@markdown ## Java 19 (Latest version)\n",
        "%cd /content/\n",
        "!wget https://download.oracle.com/java/19/latest/jdk-19_linux-x64_bin.deb\n",
        "!sudo apt install /content/jdk-19_linux-x64_bin.deb\n",
        "!rm -rf /content/jdk-19_linux-x64_bin.deb\n",
        "import os\n",
        "os.environ[\"JAVA_HOME\"] = \"/usr/lib/jvm/jdk-19\"\n",
        "!update-alternatives --install /usr/bin/java java /usr/lib/jvm/jdk-19/bin/java 1919\n",
        "!java -version"
      ]
    },
    {
      "cell_type": "markdown",
      "metadata": {
        "id": "5Chi7SmnZwAv"
      },
      "source": [
        "## 3. Download server software (click the arrow to expand)\n",
        "#### Warning: Don't do this step if you already setup a minecraft server in your drive"
      ]
    },
    {
      "cell_type": "code",
      "execution_count": null,
      "metadata": {
        "id": "Ui2XV_wohTru",
        "cellView": "form"
      },
      "outputs": [],
      "source": [
        "#@markdown ## 2. Set config\n",
        "#@markdown ### Run the cell to change the config\n",
        "import ipywidgets as widgets\n",
        "from IPython.display import display\n",
        "import minecraftVersions as MCVersion\n",
        "import requests\n",
        "\n",
        "serverType = \"paper\" #@param [\"vanilla\", \"paper\"]\n",
        "\n",
        "mc = MCVersion.MCVersion()\n",
        "\n",
        "javaServerDownloadUrl = mc.latest().release().server().url\n",
        "vanillaVersionGui = widgets.Dropdown(\n",
        "    options=mc.getAllVersions().toList(),\n",
        "    value=mc.latest().release().version,\n",
        "    description='MC Version:',\n",
        ")\n",
        "\n",
        "paperlist = requests.get(\"https://papermc.io/api/v2/projects/paper\").json()[\"versions\"]\n",
        "paperVersion = paperlist[-1]\n",
        "paperVersionGui = widgets.Dropdown(\n",
        "    options=paperlist,\n",
        "    value=paperVersion,\n",
        "    description='PaperMC Version:',\n",
        ")\n",
        "\n",
        "saveButton = widgets.Button(description=\"Save\")\n",
        "def save_config(*arg):\n",
        "  global vanillaVersionGui\n",
        "  global javaServerDownloadUrl\n",
        "  global paperVersion\n",
        "  javaServerDownloadUrl = mc.getVersion(vanillaVersionGui.value).server().url\n",
        "  paperVersion = paperVersionGui.value\n",
        "  print(\"Saved\")\n",
        "\n",
        "saveButton.on_click(save_config)\n",
        "\n",
        "if serverType == \"vanilla\":\n",
        "  display(vanillaVersionGui)\n",
        "else:\n",
        "  display(paperVersionGui)\n",
        "display(saveButton)\n"
      ]
    },
    {
      "cell_type": "code",
      "execution_count": null,
      "metadata": {
        "cellView": "form",
        "id": "eWOwZyM84Til"
      },
      "outputs": [],
      "source": [
        "#@markdown ## Vanilla\n",
        "\n",
        "import os, os.path\n",
        "if os.path.exists(savePath + \"minecraftServer/java/vanilla\"):\n",
        "  print(\"Folder exists!\")\n",
        "else:\n",
        "  print(\"Creating Folder...\")\n",
        "  os.system(\"mkdir \" + savePath + \"minecraftServer/java/vanilla\")\n",
        "  print(\"Downloading java server...\")\n",
        "  os.system(f\"wget {javaServerDownloadUrl} -O {savePath}/minecraftServer/java/vanilla/server.jar\")\n",
        "  print(\"Done!\")"
      ]
    },
    {
      "cell_type": "code",
      "execution_count": null,
      "metadata": {
        "id": "JgJnXR4LZptu",
        "cellView": "form"
      },
      "outputs": [],
      "source": [
        "#@markdown ## PaperMC\n",
        "\n",
        "import os, os.path\n",
        "import json\n",
        "import requests\n",
        "\n",
        "res = requests.get(\"https://api.papermc.io/v2/projects/paper/versions/{}/builds/\".format(paperVersion))\n",
        "latestBuild = res.json()[\"builds\"][-1]\n",
        "paperDownloadUrl = \"https://api.papermc.io/v2/projects/paper/versions/{}/builds/{}/downloads/{}\".format(paperVersion, latestBuild[\"build\"], latestBuild[\"downloads\"][\"application\"][\"name\"])\n",
        "if os.path.exists(savePath + \"minecraftServer/java/paper\"):\n",
        "  print(\"Folder exists!\")\n",
        "else:\n",
        "  print(\"Creating Folder...\")\n",
        "  os.system(\"mkdir \" + savePath + \"minecraftServer/java/paper\")\n",
        "  print(\"Downloading java server...\")\n",
        "  os.system(f\"wget {paperDownloadUrl} -O {savePath}minecraftServer/java/paper/server.jar\")\n",
        "  print(\"Done!\")"
      ]
    },
    {
      "cell_type": "markdown",
      "metadata": {
        "id": "29N43vyCZ8dL"
      },
      "source": [
        "## 4. Start the server (Java)"
      ]
    },
    {
      "cell_type": "code",
      "execution_count": null,
      "metadata": {
        "id": "B5L_HvpfFy9k",
        "cellView": "form"
      },
      "outputs": [],
      "source": [
        "import pyngrok\n",
        "from pyngrok import ngrok, conf\n",
        "import getpass\n",
        "import requests\n",
        "\n",
        "%cd /content/\n",
        "\n",
        "def getData(path):\n",
        "  try:\n",
        "    return open(path, \"r\").read().replace(\"\\n\", \"\")\n",
        "  except:\n",
        "    return \"\"\n",
        "\n",
        "def getServerProp(fp,p):\n",
        "    with open(fp, \"r\") as f:\n",
        "        for i in f.read().splitlines():\n",
        "            if i[0] != \"#\":\n",
        "                k,v = i.split(\"=\")\n",
        "                if p == k:\n",
        "                    return v\n",
        "\n",
        "webhookUrl = getData(savePath + \"minecraftServer/discordWebhook.txt\")\n",
        "\n",
        "auth_token = getData(savePath + \"minecraftServer/ngtoken.txt\")\n",
        "if auth_token:\n",
        "  !ngrok authtoken \"$auth_token\"\n",
        "else:\n",
        "  raise ValueError(\"Failed to get ngrok token!\")\n",
        "\n",
        "serverRegion = \"ap\" #@param [\"us\", \"eu\", \"ap\", \"au\", \"sa\", \"jp\", \"in\"] {type: \"string\"}\n",
        "conf.get_default().region = serverRegion\n",
        "\n",
        "software = \"paper\" #@param [\"vanilla\", \"paper\"] {type: \"string\"}\n",
        "memory = 10 #@param {type: \"slider\", min: 1, max: 11, step: 1}\n",
        "\n",
        "try:\n",
        "  serverPort = int(getServerProp(f\"{savePath}minecraftServer/java/{software}/server.properties\", \"server-port\"))\n",
        "except:\n",
        "  serverPort = 25565\n",
        "\n",
        "client = ngrok.connect(serverPort, 'tcp')\n",
        "serverip = ((str(client).split('\"')[1::2])[0]).replace('tcp://', '')\n",
        "print(\"Server IP: \" + serverip)\n",
        "\n",
        "%cd $savePath\"/minecraftServer/java/\"$software\n",
        "with open(f\"{savePath}minecraftServer/java/{software}/eula.txt\", \"w\") as f:\n",
        "  f.write(\"eula=true\")\n",
        "  f.close()\n",
        "\n",
        "if webhookUrl:\n",
        "  sendWebhook = requests.post(webhookUrl, json={\n",
        "    \"username\": \"Server Status\",\n",
        "    \"content\": \"**Server đã mở! Server IP:** `{}`\".format(serverip)\n",
        "  })\n",
        "  print(\"Successfully sent the IP to the discord server!\" if sendWebhook.status_code == 204 else \"Failed to send the IP to the discord server! [{}]\".format(sendWebhook.status_code))\n",
        "\n",
        "import subprocess as sub\n",
        "import threading\n",
        "\n",
        "server = sub.Popen([\"java\", f\"-Xms{memory}G\", f\"-Xmx{memory}G\", \"-jar\", f\"{savePath}minecraftServer/java/{software}/server.jar\", \"nogui\"], stdin=sub.PIPE, stdout=sub.PIPE, stderr=sub.PIPE,text=True)\n",
        "def printLog():\n",
        "  global server\n",
        "  while True:\n",
        "    out = server.stdout.readline()\n",
        "    if out == '' and server.poll() is not None:\n",
        "      break\n",
        "    if out:\n",
        "      print(out.strip())\n",
        "\n",
        "threading.Thread(target=printLog).start()\n",
        "while True:\n",
        "  try:\n",
        "    cmd = input()\n",
        "    if cmd.lower() == \"stop\":\n",
        "      server.stdin.write(\"stop\\n\")\n",
        "      server.stdin.flush()\n",
        "      break\n",
        "    else:\n",
        "      server.stdin.write(cmd+\"\\n\")\n",
        "      server.stdin.flush()\n",
        "  except KeyboardInterrupt:\n",
        "    server.stdin.write(\"stop\\n\")\n",
        "    server.stdin.flush()\n",
        "    break"
      ]
    },
    {
      "cell_type": "markdown",
      "metadata": {
        "id": "3mkqXIPR_dh8"
      },
      "source": [
        "# For Minecraft Bedrock Edition (Currently ngrok is not support UDP port so this will not work)"
      ]
    },
    {
      "cell_type": "code",
      "execution_count": null,
      "metadata": {
        "cellView": "form",
        "id": "dGRupyxw5wbE"
      },
      "outputs": [],
      "source": [
        "#@markdown ## 1. Download bedrock server\n",
        "#@markdown ### Current: 1.19.50.02\n",
        "%cd /content/\n",
        "bedrockServerDownloadUrl = \"https://minecraft.azureedge.net/bin-linux/bedrock-server-1.19.50.02.zip\" #@param {type: \"string\"}\n",
        "!wget $bedrockServerDownloadUrl -O /content/bedrockServer.zip\n",
        "!mkdir $savePath\"minecraftServer/bedrock/vanilla\"\n",
        "!unzip bedrockServer.zip -d $savePath\"minecraftServer/bedrock/vanilla\"\n",
        "!rm -rf /content/bedrockServer.zip\n",
        "\n"
      ]
    },
    {
      "cell_type": "code",
      "execution_count": null,
      "metadata": {
        "cellView": "form",
        "id": "F9Y2TZ2SAG1d"
      },
      "outputs": [],
      "source": [
        "#@markdown ## 2. Start The Server (Bedrock)\n",
        "import pyngrok\n",
        "from pyngrok import ngrok, conf\n",
        "import getpass\n",
        "\n",
        "def getData(path):\n",
        "  try:\n",
        "    return open(path, \"r\").read().replace(\"\\n\", \"\")\n",
        "  except:\n",
        "    return \"\"\n",
        "\n",
        "webhookUrl = getData(savePath + \"minecraftServer/discordWebhook.txt\")\n",
        "\n",
        "conf.get_default().region = \"ap\"\n",
        "print(ngrok.connect(19132, 'udp'))\n",
        "\n",
        "%cd \"$savePath\"minecraftServer/bedrock/vanilla\n",
        "!LD_LIBRARY_PATH=. ./bedrock_server"
      ]
    },
    {
      "cell_type": "markdown",
      "metadata": {
        "id": "ywkpaKyuijEs"
      },
      "source": [
        "# Tools"
      ]
    },
    {
      "cell_type": "code",
      "execution_count": null,
      "metadata": {
        "cellView": "form",
        "colab": {
          "base_uri": "https://localhost:8080/"
        },
        "id": "7ENkrdeCis3H",
        "outputId": "aa0b0226-fee9-46d2-910f-eeca7a4d4320"
      },
      "outputs": [
        {
          "name": "stdout",
          "output_type": "stream",
          "text": [
            "Fetching data from https://mediafilez.forgecdn.net/files/3348/374/OpenInv.jar\n",
            "Done! Saved to /content/drive/MyDrive/minecraftServer/java/paper/plugins\n"
          ]
        }
      ],
      "source": [
        "#@markdown ## Quick add plugin (Paper)\n",
        "\n",
        "import os, os.path\n",
        "\n",
        "pluginUrl = \"https://mediafilez.forgecdn.net/files/3348/374/OpenInv.jar\" #@param {type: \"string\"}\n",
        "\n",
        "def downloadPlugin():\n",
        "  global pluginUrl\n",
        "  if pluginUrl:\n",
        "    print(\"Fetching data from {}\".format(pluginUrl))\n",
        "    os.system(f\"wget {pluginUrl} -P {savePath}minecraftServer/java/paper/plugins/\")\n",
        "    print(f\"Done! Saved to {savePath}minecraftServer/java/paper/plugins\")\n",
        "  else:\n",
        "    print(\"Invaild URL!\")\n",
        "\n",
        "if os.path.exists(savePath + \"minecraftServer/java/paper/plugins\"):\n",
        "  downloadPlugin()\n",
        "else:\n",
        "  os.system(\"mkdir \" + savePath + \"minecraftServer/java/paper/plugins\")\n",
        "  downloadPlugin()\n"
      ]
    }
  ],
  "metadata": {
    "colab": {
      "collapsed_sections": [
        "ywkpaKyuijEs"
      ],
      "provenance": []
    },
    "gpuClass": "standard",
    "kernelspec": {
      "display_name": "Python 3",
      "name": "python3"
    },
    "language_info": {
      "name": "python"
    }
  },
  "nbformat": 4,
  "nbformat_minor": 0
}
