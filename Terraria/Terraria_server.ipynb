{
  "cells": [
    {
      "cell_type": "markdown",
      "metadata": {
        "id": "4_MseBQy8sqo"
      },
      "source": [
        "# Prepare"
      ]
    },
    {
      "cell_type": "code",
      "execution_count": 1,
      "metadata": {
        "cellView": "form",
        "id": "LIb98CWR6mTm"
      },
      "outputs": [],
      "source": [
        "#@markdown ## Save Mode\n",
        "\n",
        "saveMode = \"googleDrive\" #@param [\"temporary\", \"googleDrive\"] {\"type\": \"string\"}\n",
        "savePath = \"\"\n",
        "if saveMode.lower() == \"temporary\":\n",
        "  savePath = \"/content/\"\n",
        "else:\n",
        "  savePath = \"/content/drive/MyDrive/\""
      ]
    },
    {
      "cell_type": "code",
      "execution_count": null,
      "metadata": {
        "cellView": "form",
        "id": "ooS_celg8o_n"
      },
      "outputs": [],
      "source": [
        "#@markdown ## Mount to drive\n",
        "#@markdown ### If you use googleDrive mode run this cell\n",
        "from google.colab import drive\n",
        "drive.mount('/content/drive', force_remount=True)"
      ]
    },
    {
      "cell_type": "code",
      "execution_count": null,
      "metadata": {
        "cellView": "form",
        "id": "BJ4J5pmY9D9w"
      },
      "outputs": [],
      "source": [
        "#@markdown ## Install requirements\n",
        "!pip install -U pyngrok\n",
        "import os\n",
        "def findFile(fileName, dirPath):\n",
        "  for dp, _, fn in os.walk(dirPath):\n",
        "    if fileName in fn:\n",
        "      return dp"
      ]
    },
    {
      "cell_type": "code",
      "execution_count": null,
      "metadata": {
        "cellView": "form",
        "id": "IRz1AW38-3i6"
      },
      "outputs": [],
      "source": [
        "#@markdown ## Create Folder\n",
        "import os, os.path\n",
        "cf = input(\"Area you sure? [Y/N]: \")\n",
        "if cf.lower() == \"y\":\n",
        "  if os.path.exists(savePath + \"TerrariaServer\"):\n",
        "    print(\"Folder exists!\")\n",
        "  else:\n",
        "    print(\"Creating Folder...\")\n",
        "    os.system(f\"mkdir \" + savePath + \"TerrariaServer\")\n",
        "    print(\"Done!\")\n",
        "  if os.path.exists(savePath + \"/TerrariaServer/worlds\"):\n",
        "    print(\"Folder exists!\")\n",
        "  else:\n",
        "    print(\"Creating Folder...\")\n",
        "    os.system(f\"mkdir \" + savePath + \"TerrariaServer/worlds\")\n",
        "    print(\"Done!\")"
      ]
    },
    {
      "cell_type": "code",
      "execution_count": null,
      "metadata": {
        "cellView": "form",
        "id": "9RszmbyJ9VKh"
      },
      "outputs": [],
      "source": [
        "#@markdown ## Ngrok auth token (For tunneling the server) [Required]\n",
        "import getpass\n",
        "print(\"Get auth token from https://dashboard.ngrok.com/get-started/your-authtoken\")\n",
        "ngtoken = getpass.getpass()\n",
        "with open(savePath+\"TerrariaServer/ngtoken.txt\", \"w\") as f:\n",
        "  f.write(ngtoken)"
      ]
    },
    {
      "cell_type": "markdown",
      "metadata": {
        "id": "PhWjaVMI9ZjS"
      },
      "source": [
        "# Setup Server"
      ]
    },
    {
      "cell_type": "code",
      "execution_count": null,
      "metadata": {
        "cellView": "form",
        "id": "ISjctD099b7N"
      },
      "outputs": [],
      "source": [
        "#@markdown # Download Server\n",
        "%cd /content/\n",
        "import ipywidgets as widgets\n",
        "from IPython.display import display\n",
        "import requests\n",
        "import json\n",
        "import os\n",
        "import shutil\n",
        "\n",
        "raw = requests.get(\"https://api.github.com/repos/Pryaxis/TShock/releases\").json()\n",
        "verList = {}\n",
        "for i in raw:\n",
        "  verList[i[\"tag_name\"]] = i[\"assets_url\"]\n",
        "\n",
        "serverType = \"vanilla\" #@param [\"vanilla\", \"tshock\"]\n",
        "\n",
        "if serverType == \"vanilla\":\n",
        "  inp = widgets.Text(\n",
        "      value=\"https://terraria.org/api/download/pc-dedicated-server/terraria-server-1449.zip\",\n",
        "      placeholder=\"https://terraria.fandom.com/wiki/Server#Downloads\",\n",
        "      description=\"Server Zip:\"\n",
        "  )\n",
        "else:\n",
        "  vers = list(verList.keys())\n",
        "  inp = widgets.Dropdown(\n",
        "      description='Version:',\n",
        "      options=vers,\n",
        "      value=vers[0]\n",
        "  )\n",
        "\n",
        "dButton = widgets.Button(description=\"Download\")\n",
        "def downloadFile(*arg):\n",
        "  global serverUrl, verList\n",
        "  if serverType == \"vanilla\":\n",
        "    serverUrl = inp.value\n",
        "  else:\n",
        "    assets = requests.get(verList[inp.value]).json()\n",
        "    serverUrl = str(next((i[\"browser_download_url\"] for i in assets if \"linux-x\" in i[\"browser_download_url\"]), None))\n",
        "  print(\"Downloading...\")\n",
        "  !wget $serverUrl -O terraria-server.zip\n",
        "  !unzip -o /content/terraria-server.zip -d /content/temp\n",
        "  if serverType == \"tshock\":\n",
        "    f = os.path.join(\"/content/temp\", os.listdir(\"/content/temp\")[0])\n",
        "    !tar -xf \"$f\" -C \"$savePath\"TerrariaServer\n",
        "    !rm \"$f\"\n",
        "  else:\n",
        "    f = findFile(\"TerrariaServer.bin.x86_64\", \"/content/temp\")\n",
        "    fs = os.listdir(f)\n",
        "    for i in fs:\n",
        "      shutil.move(os.path.join(f, i),  os.path.join(savePath + \"TerrariaServer\", i))\n",
        "  shutil.rmtree(\"/content/temp\", ignore_errors=True)\n",
        "  !rm /content/terraria-server.zip\n",
        "  print(\"Done\")\n",
        "\n",
        "dButton.on_click(downloadFile)\n",
        "display(inp)\n",
        "display(dButton)"
      ]
    },
    {
      "cell_type": "code",
      "execution_count": null,
      "metadata": {
        "cellView": "form",
        "id": "jRwWSkaKK-eT"
      },
      "outputs": [],
      "source": [
        "#@markdown # Create Server Config\n",
        "\n",
        "with open(savePath+\"TerrariaServer/terraria.properties\", \"w\") as f:\n",
        "  f.write(f\"\"\"#this is an example config file for TerrariaServer.exe\n",
        "#please report crashes by emailing crashlog.txt to support@terraria.org\n",
        "\n",
        "#the following is a list of available command line parameters:\n",
        "\n",
        "#-config <config file>\t\t\t\t            Specifies the configuration file to use.\n",
        "#-port <port number>\t\t\t\t              Specifies the port to listen on.\n",
        "#-players <number> / -maxplayers <number>\tSets the max number of players\n",
        "#-pass <password> / -password <password>\tSets the server password\n",
        "#-world <world file>\t\t\t\t              Load a world and automatically start the server.\n",
        "#-autocreate <#>\t\t\t                  \tCreates a world if none is found in the path specified by -world. World size is specified by: 1(small), 2(medium), and 3(large).\n",
        "#-banlist <path>\t\t\t                  \tSpecifies the location of the banlist. Defaults to \"banlist.txt\" in the working directory.\n",
        "#-worldname <world name>             \t\t\tSets the name of the world when using -autocreate.\n",
        "#-secure\t\t\t                        \t\tAdds addition cheat protection to the server.\n",
        "#-noupnp\t\t\t\t                        \tDisables automatic port forwarding\n",
        "#-steam                         \t\t\t\t\tEnables Steam Support\n",
        "#-lobby <friends> or <private>             Allows friends to join the server or sets it to private if Steam is enabled\n",
        "#-ip <ip address>\tSets the IP address for the server to listen on\n",
        "#-forcepriority <priority>\tSets the process priority for this task. If this is used the \"priority\" setting below will be ignored.\n",
        "#-disableannouncementbox   Disables the text announcements Announcement Box makes when pulsed from wire.\n",
        "#-announcementboxrange <number>   Sets the announcement box text messaging range in pixels, -1 for serverwide announcements.\n",
        "#-seed <seed> Specifies the world seed when using -autocreate\n",
        "\n",
        "#remove the # in front of commands to enable them.\n",
        "\n",
        "port=7777 #Don't Change\n",
        "\n",
        "#Load a world and automatically start the server.\n",
        "world=./worlds/world.wld\n",
        "\n",
        "#Creates a new world if none is found. World size is specified by: 1(small), 2(medium), and 3(large).\n",
        "autocreate=1\n",
        "\n",
        "#Sets the world seed when using autocreate\n",
        "#seed=AwesomeSeed\n",
        "\n",
        "#Sets the name of the world when using autocreate\n",
        "worldname=world\n",
        "\n",
        "#Sets the difficulty of the world when using autocreate 0(normal), 1(expert)\n",
        "#difficulty=1\n",
        "\n",
        "#Sets the max number of players allowed on a server.  Value must be between 1 and 255\n",
        "maxplayers=10\n",
        "\n",
        "#Set the server password\n",
        "#password=setyourpassword\n",
        "\n",
        "#Set the message of the day\n",
        "motd=Terraria Server\n",
        "\n",
        "#Sets the folder where world files will be stored\n",
        "worldpath=./worlds\n",
        "\n",
        "#The location of the banlist. Defaults to \"banlist.txt\" in the working directory.\n",
        "banlist=banlist.txt\n",
        "\n",
        "#Adds addition cheat protection.\n",
        "#secure=1\n",
        "\n",
        "#Sets the server language from its language code.\n",
        "#English = en-US, German = de-DE, Italian = it-IT, French = fr-FR, Spanish = es-ES, Russian = ru-RU, Chinese = zh-Hans, Portuguese = pt-BR, Polish = pl-PL,\n",
        "#language=en-US\n",
        "\n",
        "#Reduces enemy skipping but increases bandwidth usage. The lower the number the less skipping will happen, but more data is sent. 0 is off.\n",
        "#npcstream=60\n",
        "\n",
        "#Default system priority 0:Realtime, 1:High, 2:AboveNormal, 3:Normal, 4:BelowNormal, 5:Idle\n",
        "priority=1\n",
        "\"\"\")\n",
        "\n",
        "with open(savePath+\"TerrariaServer/banlist.txt\", \"w\") as f:\n",
        "  f.write(\"\")\n",
        "print(\"Done!\")"
      ]
    },
    {
      "cell_type": "code",
      "execution_count": null,
      "metadata": {
        "cellView": "form",
        "id": "fixwoI2gD9Zb"
      },
      "outputs": [],
      "source": [
        "#@markdown # Start Server\n",
        "%cd \"$savePath\"TerrariaServer/\n",
        "serverType = \"vanilla\" #@param [\"vanilla\", \"tshock\"]\n",
        "!sudo chmod -R 777 *\n",
        "import pyngrok\n",
        "from pyngrok import ngrok, conf\n",
        "serverRegion = \"ap\" #@param [\"us\", \"eu\", \"ap\", \"au\", \"sa\", \"jp\", \"in\"] {type: \"string\"}\n",
        "conf.get_default().region = serverRegion\n",
        "\n",
        "with open(savePath+\"TerrariaServer/ngtoken.txt\", \"r\") as f:\n",
        "  auth_token = f.read().strip()\n",
        "  if auth_token:\n",
        "    !ngrok authtoken \"$auth_token\"\n",
        "  else:\n",
        "    raise ValueError(\"Failed to get ngrok token!\")\n",
        "\n",
        "client = ngrok.connect(\"7777\", 'tcp')\n",
        "serverip = ((str(client).split('\"')[1::2])[0]).replace('tcp://', '')\n",
        "print(\"Server IP: \" + serverip)\n",
        "\n",
        "import subprocess as sub\n",
        "import threading\n",
        "\n",
        "textFilter = [\"Saving world data\", \"Resetting game objects\", \"Loading world data\",\"Settling liquids\",\"Validating world save\"]\n",
        "percent = [\"50%\", \"100%\"]\n",
        "server = sub.Popen([\"./TerrariaServer.bin.x86_64\" if serverType == \"vanilla\" else \"./TShock.Installer\", \"-config\", f\"{savePath}TerrariaServer/terraria.properties\"], stdin=sub.PIPE, stdout=sub.PIPE, stderr=sub.PIPE,text=True)\n",
        "def printLog():\n",
        "  global server\n",
        "  prevOut = \"\"\n",
        "  while True:\n",
        "    out = server.stdout.readline()\n",
        "    if out == '' and server.poll() is not None:\n",
        "      break\n",
        "    if out != prevOut:\n",
        "      ar = out.split(\":\")\n",
        "      if len(ar) == 1:\n",
        "        ar = out.rsplit(\" \", 1)\n",
        "      if ar[0].strip() in textFilter:\n",
        "        for p in percent:\n",
        "          if ar[1].strip() == p:\n",
        "            print(out.strip())\n",
        "            break\n",
        "      else:\n",
        "        print(out.strip())\n",
        "      prevOut = out\n",
        "\n",
        "threading.Thread(target=printLog).start()\n",
        "exitalias = [\"stop\", \"stop-nosave\", \"exit\", \"exit-nosave\", \"off\", \"off-nosave\"]\n",
        "while True:\n",
        "  try:\n",
        "    cmd = input()\n",
        "    cmd2 = cmd.lower()\n",
        "    if cmd2 in exitalias:\n",
        "      if cmd2 == \"exit-nosave\" or cmd2 == \"stop-nosave\" or cmd2 == \"off-nosave\":\n",
        "        server.stdin.write(\"exit-nosave\\n\")\n",
        "      else:\n",
        "        server.stdin.write(\"exit\\n\")\n",
        "      server.stdin.flush()\n",
        "      break\n",
        "    else:\n",
        "      server.stdin.write(cmd+\"\\n\")\n",
        "      server.stdin.flush()\n",
        "  except KeyboardInterrupt:\n",
        "    server.stdin.write(\"exit\\n\")\n",
        "    server.stdin.flush()\n",
        "    break\n",
        "\n",
        "#!./TShock.Installer -config \"$savePath\"TerrariaServer/terraria.properties"
      ]
    }
  ],
  "metadata": {
    "colab": {
      "provenance": []
    },
    "kernelspec": {
      "display_name": "Python 3",
      "name": "python3"
    },
    "language_info": {
      "name": "python"
    }
  },
  "nbformat": 4,
  "nbformat_minor": 0
}
